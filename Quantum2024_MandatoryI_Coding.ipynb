{
 "cells": [
  {
   "cell_type": "markdown",
   "id": "3e5edac9-648d-45a2-b598-54b92e06dca2",
   "metadata": {},
   "source": [
    "# 1. Coding Part"
   ]
  },
  {
   "cell_type": "markdown",
   "id": "5c0914cb-14d8-4b8e-bb74-abb4904f9596",
   "metadata": {},
   "source": [
    "## Task 1.1 Playing with quatum circuits"
   ]
  },
  {
   "cell_type": "code",
   "execution_count": null,
   "id": "f2128a2c-fc45-4a61-87c9-cac2b353cf48",
   "metadata": {},
   "outputs": [],
   "source": [
    "# Code here\n",
    "from qiskit import QuantumCircuit, transpile\n",
    "from qiskit_aer import AerSimulator\n",
    "from qiskit.visualization import array_to_latex, plot_histogram\n",
    "import numpy as np\n",
    "import qiskit.quantum_info as qi\n",
    "\n",
    "i = -1j\n",
    "\n",
    "# 1.\n",
    "ket_R = np.array([1, i])\n",
    "ket_L = np.array([1, -i])\n",
    "\n",
    "LLRR = np.kron(ket_L, np.kron(ket_L,np.kron(ket_R, ket_R)))\n",
    "\n",
    "RRLL = np.kron(ket_R, np.kron(ket_R,np.kron(ket_L, ket_L)))\n",
    "                    \n",
    "ket = (1/(np.sqrt(2))) * (RRLL - LLRR)              \n",
    "array_to_latex(RRLL, max_size=16)\n",
    "sv = qi.Statevector(ket)\n",
    "sv.draw(output = 'latex')\n",
    "\n",
    "# 2.\n",
    "\n",
    "\n",
    "# 3."
   ]
  },
  {
   "cell_type": "code",
   "execution_count": null,
   "id": "3e1cbc36",
   "metadata": {},
   "outputs": [],
   "source": [
    "qc = QuantumCircuit(4)\n",
    "bv = qi.Statevector(qc)\n",
    "\n",
    "# 3 to R\n",
    "qc.h(3)\n",
    "qc.s(3)\n",
    "\n",
    "# 2 to R\n",
    "qc.h(2)\n",
    "qc.s(2)\n",
    "\n",
    "#1 to L\n",
    "qc.h(1)\n",
    "qc.s(1)\n",
    "qc.x(1)\n",
    "#0 to L\n",
    "qc.h(0)\n",
    "qc.s(0)\n",
    "qc.x(0)\n",
    "\n",
    "#entangle \n",
    "qc.s(3)\n",
    "qc.h(3)\n",
    "\n",
    "qc.x(0)\n",
    "qc.z(3)\n",
    "\n",
    "qc.cy(2,3)\n",
    "qc.cy(1,2)\n",
    "qc.cy(0,1)\n",
    "\n",
    "\n",
    "sv = qi.Statevector(qc)\n",
    "sv.draw(output = 'latex')"
   ]
  },
  {
   "cell_type": "code",
   "execution_count": null,
   "id": "d6d08f1d",
   "metadata": {},
   "outputs": [],
   "source": [
    "#test\n",
    "#tenker å få |0011> - |1100> \n",
    "\n",
    "qc = QuantumCircuit(4,1)\n",
    "qc.h(3)\n",
    "qc.cx(3,2)\n",
    "\n",
    "qc.x(1)\n",
    "qc.cx(2,1)\n",
    "qc.cx(1,0)\n",
    "qc.z(2)\n",
    "sv = qi.Statevector(qc)\n",
    "sv.draw(output = 'latex')"
   ]
  },
  {
   "cell_type": "code",
   "execution_count": null,
   "id": "1d30a4af",
   "metadata": {},
   "outputs": [],
   "source": [
    "#Tester å få RL-LR\n",
    "\n",
    "qc = QuantumCircuit(2,1)\n",
    "# 1 to R\n",
    "qc.h(1)\n",
    "qc.s(1)\n",
    "\n",
    "# 0 to L\n",
    "qc.h(0)\n",
    "qc.s(0)\n",
    "qc.x(0)\n",
    "\n",
    "#entangle\n",
    "qc.s(1)\n",
    "qc.h(1)\n",
    "\n",
    "qc.cy(0, 1)\n",
    "\n",
    "sv = qi.Statevector(qc)\n",
    "sv.draw(output = 'latex')"
   ]
  },
  {
   "cell_type": "markdown",
   "id": "7e52008b-4df8-4f76-88b3-980fc3244b40",
   "metadata": {},
   "source": [
    "## Task 1.2 Quatum State Tomography"
   ]
  },
  {
   "cell_type": "code",
   "execution_count": 1337,
   "id": "e3ca475c-8dc6-48f0-a55d-f9306e9a2f34",
   "metadata": {},
   "outputs": [],
   "source": [
    "# Code here\n",
    "\n",
    "# 1.\n",
    "\n",
    "# 2.\n",
    "\n",
    "# 3.\n",
    "\n",
    "# 4."
   ]
  }
 ],
 "metadata": {
  "kernelspec": {
   "display_name": "Python 3 (ipykernel)",
   "language": "python",
   "name": "python3"
  },
  "language_info": {
   "codemirror_mode": {
    "name": "ipython",
    "version": 3
   },
   "file_extension": ".py",
   "mimetype": "text/x-python",
   "name": "python",
   "nbconvert_exporter": "python",
   "pygments_lexer": "ipython3",
   "version": "3.12.4"
  }
 },
 "nbformat": 4,
 "nbformat_minor": 5
}
