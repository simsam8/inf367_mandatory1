{
 "cells": [
  {
   "cell_type": "markdown",
   "id": "3e5edac9-648d-45a2-b598-54b92e06dca2",
   "metadata": {},
   "source": [
    "# 1. Coding Part"
   ]
  },
  {
   "cell_type": "markdown",
   "id": "5c0914cb-14d8-4b8e-bb74-abb4904f9596",
   "metadata": {},
   "source": [
    "## Task 1.1 Playing with quatum circuits"
   ]
  },
  {
   "cell_type": "code",
   "execution_count": null,
   "id": "f2128a2c-fc45-4a61-87c9-cac2b353cf48",
   "metadata": {},
   "outputs": [],
   "source": [
    "# Code here\n",
    "from qiskit import QuantumCircuit, transpile\n",
    "from qiskit_aer import AerSimulator\n",
    "from qiskit.visualization import array_to_latex, plot_histogram\n",
    "import numpy as np\n",
    "import qiskit.quantum_info as qi\n",
    "\n",
    "i = -1j\n",
    "\n",
    "# 1 to ge the result i need to verify our code with.\n",
    "\n",
    "qc_RRLL = QuantumCircuit(4)\n",
    "#3 to R\n",
    "qc_RRLL.h(3)\n",
    "qc_RRLL.s(3)\n",
    "#2 to R\n",
    "qc_RRLL.h(2)\n",
    "qc_RRLL.s(2)\n",
    "#1 to L\n",
    "qc_RRLL.h(1)\n",
    "qc_RRLL.s(1)\n",
    "qc_RRLL.x(1)\n",
    "#0 to L\n",
    "qc_RRLL.h(0)\n",
    "qc_RRLL.s(0)\n",
    "qc_RRLL.x(0)\n",
    "\n",
    "qc_LLRR = QuantumCircuit(4)\n",
    "\n",
    "#0 to R\n",
    "qc_LLRR.h(0)\n",
    "qc_LLRR.s(0)\n",
    "#1 to R\n",
    "qc_LLRR.h(1)\n",
    "qc_LLRR.s(1)\n",
    "#2 to L\n",
    "qc_LLRR.h(2)\n",
    "qc_LLRR.s(2)\n",
    "qc_LLRR.x(2)\n",
    "#3 to L\n",
    "qc_LLRR.h(3)\n",
    "qc_LLRR.s(3)\n",
    "qc_LLRR.x(3)\n",
    "\n",
    "sv_2 = (1/np.sqrt(2))*(qi.Statevector(qc_RRLL) - qi.Statevector(qc_LLRR))\n",
    "sv_2.draw(output = 'latex')\n",
    "\n",
    "# 3."
   ]
  },
  {
   "cell_type": "code",
   "execution_count": null,
   "id": "d71161b6",
   "metadata": {},
   "outputs": [],
   "source": [
    "def MakeQC_RRLL_LLRR():\n",
    "    qc = QuantumCircuit(4)\n",
    "    \n",
    "    # 3 to -|1>\n",
    "    qc.x(3)\n",
    "    qc.z(3)\n",
    "  \n",
    "    # 2 to |R>\n",
    "    qc.h(2)\n",
    "    qc.s(2)\n",
    "\n",
    "    # 1 to |L>\n",
    "    qc.h(1)\n",
    "    qc.s(1)\n",
    "    qc.x(1)\n",
    "    \n",
    "    # 0 to |R>\n",
    "    qc.h(0)\n",
    "    qc.s(0)\n",
    "    \n",
    "    #entangle \n",
    "\n",
    "    qc.cy(2,3)\n",
    "    qc.cy(1,2)\n",
    "    qc.cy(0,1)\n",
    "    return qc\n",
    "qc = MakeQC_RRLL_LLRR()\n",
    "sv = qi.Statevector(qc)\n",
    "sv.draw(output = 'latex')\n",
    "#qc.draw(output=\"mpl\", reverse_bits=True)"
   ]
  },
  {
   "cell_type": "code",
   "execution_count": null,
   "id": "566e8e8a",
   "metadata": {},
   "outputs": [],
   "source": [
    "#1.1.1\n",
    "backend = AerSimulator()\n",
    "def measure(qc: QuantumCircuit, shots=1000):\n",
    "    qc.measure_all()\n",
    "    transpiled_qc = transpile(qc, backend)\n",
    "    job = backend.run(transpiled_qc, shots=shots)\n",
    "    result = job.result()\n",
    "    return result.get_counts()\n",
    "\n",
    "qc = MakeQC_RRLL_LLRR()\n",
    "\n",
    "plot_histogram(measure(qc, shots=1000))"
   ]
  },
  {
   "cell_type": "code",
   "execution_count": null,
   "id": "6937c4c5",
   "metadata": {},
   "outputs": [],
   "source": [
    "#inverse but for the shorter version\n",
    "\n",
    "qc = MakeQC_RRLL_LLRR()\n",
    "\n",
    "qc.barrier()\n",
    "#untangle \n",
    "qc.cy(0,1)\n",
    "qc.cy(1,2)\n",
    "qc.cy(2,3)\n",
    "\n",
    "\n",
    "# reverse 3\n",
    "qc.z(3)\n",
    "qc.x(3)\n",
    "\n",
    "# reverse 2\n",
    "qc.sdg(2)\n",
    "qc.h(2)\n",
    "\n",
    "# reverse 1\n",
    "qc.x(1)\n",
    "qc.sdg(1)\n",
    "qc.h(1)\n",
    "\n",
    "# reverse 0\n",
    "qc.sdg(0)\n",
    "qc.h(0)\n",
    "\n",
    "sv = qi.Statevector(qc)\n",
    "sv.draw(output = 'latex')\n",
    "qc.draw(output=\"mpl\", reverse_bits=True)"
   ]
  },
  {
   "cell_type": "markdown",
   "id": "3a815e54",
   "metadata": {},
   "source": [
    "Comment on how you figured out how to construct it:\n",
    "\n",
    "We know that the gates are self-adjoint, so we figured than we can take the daggered version of the gates to reverse it. "
   ]
  },
  {
   "cell_type": "markdown",
   "id": "7e52008b-4df8-4f76-88b3-980fc3244b40",
   "metadata": {},
   "source": [
    "## Task 1.2 Quatum State Tomography"
   ]
  },
  {
   "cell_type": "code",
   "execution_count": null,
   "id": "e3ca475c-8dc6-48f0-a55d-f9306e9a2f34",
   "metadata": {},
   "outputs": [],
   "source": [
    "# Code here\n",
    "\n",
    "# 1.\n",
    "\n",
    "# 2.\n",
    "\n",
    "# 3.\n",
    "\n",
    "# 4."
   ]
  }
 ],
 "metadata": {
  "kernelspec": {
   "display_name": "Python 3 (ipykernel)",
   "language": "python",
   "name": "python3"
  },
  "language_info": {
   "codemirror_mode": {
    "name": "ipython",
    "version": 3
   },
   "file_extension": ".py",
   "mimetype": "text/x-python",
   "name": "python",
   "nbconvert_exporter": "python",
   "pygments_lexer": "ipython3",
   "version": "3.10.12"
  }
 },
 "nbformat": 4,
 "nbformat_minor": 5
}
