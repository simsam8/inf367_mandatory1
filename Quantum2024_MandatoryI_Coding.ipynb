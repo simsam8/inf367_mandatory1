{
 "cells": [
  {
   "cell_type": "markdown",
   "id": "3e5edac9-648d-45a2-b598-54b92e06dca2",
   "metadata": {},
   "source": [
    "# 1. Coding Part"
   ]
  },
  {
   "cell_type": "code",
   "execution_count": null,
   "id": "61ce2514-ec93-4cb8-9334-7ad9189bc5f9",
   "metadata": {},
   "outputs": [],
   "source": [
    "from qiskit import QuantumCircuit, transpile\n",
    "from qiskit_aer import AerSimulator\n",
    "from qiskit.quantum_info import Statevector\n",
    "from qiskit.visualization import plot_bloch_vector, plot_bloch_multivector\n",
    "import numpy as np\n"
   ]
  },
  {
   "cell_type": "markdown",
   "id": "5c0914cb-14d8-4b8e-bb74-abb4904f9596",
   "metadata": {},
   "source": [
    "## Task 1.1 Playing with quatum circuits"
   ]
  },
  {
   "cell_type": "code",
   "execution_count": null,
   "id": "f2128a2c-fc45-4a61-87c9-cac2b353cf48",
   "metadata": {},
   "outputs": [],
   "source": [
    "# Code here\n",
    "\n",
    "## Circuit\n",
    "\n",
    "qc = QuantumCircuit(4)\n",
    "\n",
    "# Create a superposition\n",
    "qc.h(0)  # Hadamard on qubit 0\n",
    "\n",
    "# Entangle qubits for |RRLL> and |LLRR> states\n",
    "qc.cx(0, 1)  # Control-X (CNOT) between qubit 0 and qubit 1\n",
    "qc.cx(0, 2)  # Control-X (CNOT) between qubit 0 and qubit 2\n",
    "qc.cx(0, 3)  # Control-X (CNOT) between qubit 0 and qubit 3\n",
    "\n",
    "# Apply X-gates to swap the basis states\n",
    "qc.x(2)\n",
    "qc.x(3)\n",
    "\n",
    "# 2.\n",
    "\n",
    "# 3."
   ]
  },
  {
   "cell_type": "markdown",
   "id": "7e52008b-4df8-4f76-88b3-980fc3244b40",
   "metadata": {},
   "source": [
    "## Task 1.2 Quatum State Tomography"
   ]
  },
  {
   "cell_type": "code",
   "execution_count": null,
   "id": "e3ca475c-8dc6-48f0-a55d-f9306e9a2f34",
   "metadata": {},
   "outputs": [],
   "source": [
    "# Code here\n",
    "\n",
    "# 1.\n",
    "qc = QuantumCircuit(1)\n",
    "qc.x(0)\n",
    "qc.h(0)\n",
    "qc.tdg(0) # tdg - (T-dagger) porten\n",
    "qc.z(0)\n",
    "qc.y(0)\n",
    "qc.rx(1.6,0)\n",
    "qc.s(0)\n",
    "\n",
    "qc.draw('mpl', reverse_bits=True)\n"
   ]
  },
  {
   "cell_type": "code",
   "execution_count": null,
   "id": "e8517be5-9a80-4719-991b-1b4a66e0a160",
   "metadata": {},
   "outputs": [],
   "source": [
    "# 2.\n",
    "## Statevector er en representasjon av en kvantetilstand i form av en vektor i et komplekst Hilbert-rom.\n",
    "statevector = Statevector(qc)\n",
    "statevector.draw('latex')\n"
   ]
  },
  {
   "cell_type": "code",
   "execution_count": null,
   "id": "6d850286-bcf2-4e3e-83e6-a2e5779224db",
   "metadata": {},
   "outputs": [],
   "source": [
    "# Plot qc vectors on Bloch Sphere\n",
    "plot_bloch_multivector(statevector)\n",
    "\n"
   ]
  },
  {
   "cell_type": "code",
   "execution_count": null,
   "id": "20f524ad-a97e-499d-8141-57e934015534",
   "metadata": {},
   "outputs": [],
   "source": [
    "# 3. Measurment\n",
    "\n",
    "backend = AerSimulator()\n",
    "\n",
    "## Measure in Z-basis\n",
    "qc_z = qc.copy()\n",
    "qc_z.measure_all()\n",
    "results = backend.run(qc_z, shots=1000).result()\n",
    "counts_z = results.get_counts()\n",
    "print('Measurment in Z-baisi: {}'.format(counts_z))"
   ]
  },
  {
   "cell_type": "code",
   "execution_count": null,
   "id": "ee62a6a3-a322-4774-b076-814f1f0b13a5",
   "metadata": {},
   "outputs": [],
   "source": [
    "## Measure in X-basis\n",
    "qc_x = qc.copy()\n",
    "qc_x.h(0)  # Hadamard-port for å endre til X-basis\n",
    "qc_x.measure_all() \n",
    "\n",
    "results = backend.run(qc_x, shots=1000).result()\n",
    "counts_x = results.get_counts()\n",
    "print('Measurment in X-baisi: {}'.format(counts_x))"
   ]
  },
  {
   "cell_type": "code",
   "execution_count": null,
   "id": "ba19fd0e-a3e8-4744-a2a2-57e14caf3289",
   "metadata": {},
   "outputs": [],
   "source": [
    "## Measure in Y-basis\n",
    "\n",
    "qc_y = qc.copy()\n",
    "qc_y.sdg(0)\n",
    "qc_y.h(0)\n",
    "qc_y.measure_all()\n",
    "\n",
    "results = backend.run(qc_y, shots=1000).result()\n",
    "counts_y = results.get_counts()\n",
    "print('Measurment in Y-baisi: {}'.format(counts_y))"
   ]
  },
  {
   "cell_type": "markdown",
   "id": "d88759d6-4113-4b75-8fcb-bc3a57df500f",
   "metadata": {},
   "source": [
    "# 4\n",
    "\n",
    "- Målet er å beregne sannsynlighetsamplitudene $r$, $s$, og vinkel $α$, som beskriver den ukjente kvantetilstanden $∣ψ⟩$. \n",
    "- Vi kan bruke z-basis måle resultatene fra oppgave 1.3 til å estimere r og s. Videre kan vi bruke X- og Y-basis measurment counts resultatene til å finne $\\alpha$. \n",
    "    - $r$: Amplituden for tilstanden $\\ket{0}$\n",
    "    - $s$: Amplituden for tilstanden $\\ket{1}$\n",
    "- Formelen er: $\\ket{\\psi}=r\\ket{0} + se^{i\\alpha} \\ket{1}$ "
   ]
  },
  {
   "cell_type": "code",
   "execution_count": null,
   "id": "d67322e7-270b-412a-a756-d13fcb3b88ef",
   "metadata": {},
   "outputs": [],
   "source": [
    "def recontruct_state(z_counts, x_counts, y_counts, shots_number):\n",
    "    # Basis-tilstandene\n",
    "    ket_0 = np.array([1,0])\n",
    "    ket_1 = np.array([0,1])\n",
    "\n",
    "    # Beregn r og s fra Z-basis målingene\n",
    "    r = np.sqrt(z_counts['0']/shots_number)\n",
    "    s = np.sqrt(z_counts['1']/shots_number)\n",
    "    \n",
    "    # Beregn cos(α) fra X-basis målingene\n",
    "    plus_x = x_counts['0']  # |+> målt som 0\n",
    "    minus_x = x_counts['1']  # |-> målt som 1\n",
    "    cos_alpha = (plus_x - minus_x) / shots_number\n",
    "    \n",
    "    # Beregn sin(α) fra Y-basis målingene\n",
    "    plus_y = y_counts['0']  # |i> målt som 0\n",
    "    minus_y = y_counts['1']  # |-i> målt som 1\n",
    "    sin_alpha = (plus_y - minus_y) / shots_number\n",
    "    \n",
    "    # Beregn α vinkelen\n",
    "    alpha = np.arctan2(sin_alpha, cos_alpha)\n",
    "    \n",
    "    # Rekonstruer tilstanden ved å fylle formelen\n",
    "    reconstructed_state = r * ket_0 + s * (np.exp(1j * alpha) * ket_1)\n",
    "    \n",
    "    return reconstructed_state\n",
    "\n",
    "\n",
    "recontruct_state(counts_z, counts_x, counts_y, 1000)"
   ]
  },
  {
   "cell_type": "code",
   "execution_count": null,
   "id": "31b42fff-7b9a-4b17-a211-930ff8580ee8",
   "metadata": {},
   "outputs": [],
   "source": []
  }
 ],
 "metadata": {
  "kernelspec": {
   "display_name": "Python 3 (ipykernel)",
   "language": "python",
   "name": "python3"
  },
  "language_info": {
   "codemirror_mode": {
    "name": "ipython",
    "version": 3
   },
   "file_extension": ".py",
   "mimetype": "text/x-python",
   "name": "python",
   "nbconvert_exporter": "python",
   "pygments_lexer": "ipython3",
   "version": "3.11.4"
  }
 },
 "nbformat": 4,
 "nbformat_minor": 5
}
