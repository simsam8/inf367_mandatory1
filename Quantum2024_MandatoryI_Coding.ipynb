{
 "cells": [
  {
   "cell_type": "markdown",
   "id": "3e5edac9-648d-45a2-b598-54b92e06dca2",
   "metadata": {},
   "source": [
    "# 1. Coding Part"
   ]
  },
  {
   "cell_type": "markdown",
   "id": "5c0914cb-14d8-4b8e-bb74-abb4904f9596",
   "metadata": {},
   "source": [
    "## Task 1.1 Playing with quatum circuits"
   ]
  },
  {
   "cell_type": "code",
   "execution_count": null,
   "id": "f2128a2c-fc45-4a61-87c9-cac2b353cf48",
   "metadata": {},
   "outputs": [],
   "source": [
    "# Code here\n",
    "\n",
    "# 1.\n",
    "\n",
    "# 2.\n",
    "\n",
    "# 3."
   ]
  },
  {
   "cell_type": "markdown",
   "id": "7e52008b-4df8-4f76-88b3-980fc3244b40",
   "metadata": {},
   "source": [
    "## Task 1.2 Quatum State Tomography"
   ]
  },
  {
   "cell_type": "code",
   "execution_count": null,
   "id": "e3ca475c-8dc6-48f0-a55d-f9306e9a2f34",
   "metadata": {},
   "outputs": [],
   "source": [
    "# Code here\n",
    "\n",
    "# 1.\n",
    "\n",
    "# 2.\n",
    "\n",
    "# 3.\n",
    "\n",
    "# 4."
   ]
  }
 ],
 "metadata": {
  "kernelspec": {
   "display_name": "Python 3 (ipykernel)",
   "language": "python",
   "name": "python3"
  },
  "language_info": {
   "codemirror_mode": {
    "name": "ipython",
    "version": 3
   },
   "file_extension": ".py",
   "mimetype": "text/x-python",
   "name": "python",
   "nbconvert_exporter": "python",
   "pygments_lexer": "ipython3",
   "version": "3.10.12"
  }
 },
 "nbformat": 4,
 "nbformat_minor": 5
}
